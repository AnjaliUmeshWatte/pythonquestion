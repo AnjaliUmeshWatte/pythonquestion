{
 "cells": [
  {
   "cell_type": "code",
   "execution_count": null,
   "id": "3684ea1f",
   "metadata": {},
   "outputs": [],
   "source": [
    "#Q1. Write a program that performs the tasks of a simple calculator. \n",
    "# The program should first take an integer as input and then based on that integer perform the task as given below.\n",
    "\n",
    "# 1. If the input is 1, then 2 integers are taken from the user and their sum is printed\n",
    "# 2. If the input is 2, then 2 integers are taken from the user and their difference(1st number - 2nd number) is printed.\n",
    "# 3. If the input is 3, then 2 integers are taken from the user and their product is printed.\n",
    "# 4. If the input is 4, then 2 integers are taken from the user and the quotient obtained (on dividing 1st number by 2nd number) is printed.\n",
    "# 5. If the input is 5, then 2 integers are taken from the user and their remainder(1st number mod 2nd number) is printed.\n",
    "# 6. If the input is 6, then the program exits.\n",
    "# 7. For any other input, then print \"Invalid Operation\"."
   ]
  },
  {
   "cell_type": "code",
   "execution_count": 2,
   "id": "a55039a8",
   "metadata": {},
   "outputs": [],
   "source": [
    "# Q2. Take five numbers from the user and find the minimum and the average of only the even numbers entered by the user.\n",
    "# [If the user enters odd numbers ignore them]\n",
    "# Example01: If the user enters 10, 4, -1, -100, and 1.\n",
    "# Output: “Minimum -100”, “Average is -28.66667”"
   ]
  },
  {
   "cell_type": "code",
   "execution_count": null,
   "id": "a0e8ae8d",
   "metadata": {},
   "outputs": [],
   "source": [
    "# Write a Python code for the following:\n",
    "\n",
    "#  Q3.  Ask the user to enter a number, N (Total number of inputs to be taken). Assume that the user will never enter the first number as zero.\n",
    "# Take N number of inputs\n",
    "# Prints out the product of all the numbers read\n",
    "# For example, if the first input is 4, then the program has to read in four numbers from the user and print the product of these four numbers.\n",
    "\n",
    "# =========================================================================\n",
    "\n",
    "# Example01:\n",
    "\n",
    "# Input:\n",
    "# 5\n",
    "\n",
    "# 10\n",
    "\n",
    "# 6\n",
    "\n",
    "# 4\n",
    "\n",
    "# 2\n",
    "\n",
    "# 1\n",
    "\n",
    "# Output:\n",
    "# 480\n",
    "\n",
    "# Explanation:"
   ]
  },
  {
   "cell_type": "code",
   "execution_count": null,
   "id": "6fe35689",
   "metadata": {},
   "outputs": [],
   "source": [
    "# Q.4 Reverse of a number\n",
    "# Write a program to generate the reverse of a given number N. Print the corresponding reverse number.\n",
    "# Note : If a number has trailing zeros, then its reverse will not include them. For e.g., reverse of 10400 will be 401 instead of 00401.\n"
   ]
  },
  {
   "cell_type": "code",
   "execution_count": null,
   "id": "c5826dc9",
   "metadata": {},
   "outputs": [],
   "source": [
    "#Q5. Write a program to determine if given number is palindrome or not. Print true if it is palindrome, false otherwise.\n",
    "# Palindrome are the numbers for which reverse is exactly same as the original one. For eg. 121\n"
   ]
  },
  {
   "cell_type": "code",
   "execution_count": null,
   "id": "496baa1d",
   "metadata": {},
   "outputs": [],
   "source": []
  },
  {
   "cell_type": "code",
   "execution_count": null,
   "id": "ac34db4b",
   "metadata": {},
   "outputs": [],
   "source": []
  }
 ],
 "metadata": {
  "kernelspec": {
   "display_name": "Python 3 (ipykernel)",
   "language": "python",
   "name": "python3"
  },
  "language_info": {
   "codemirror_mode": {
    "name": "ipython",
    "version": 3
   },
   "file_extension": ".py",
   "mimetype": "text/x-python",
   "name": "python",
   "nbconvert_exporter": "python",
   "pygments_lexer": "ipython3",
   "version": "3.10.0"
  }
 },
 "nbformat": 4,
 "nbformat_minor": 5
}
